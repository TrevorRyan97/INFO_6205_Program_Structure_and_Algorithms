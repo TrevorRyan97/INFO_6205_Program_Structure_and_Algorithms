{
 "cells": [
  {
   "cell_type": "markdown",
   "metadata": {},
   "source": [
    "# Assignment 1 - Trevor Ryan"
   ]
  },
  {
   "cell_type": "code",
   "execution_count": null,
   "metadata": {},
   "outputs": [],
   "source": [
    "# World Cup Gale-Shapley Example. 16 teams in Group A and B - Trevor Ryan\n",
    "\n",
    "import random\n",
    "import time\n",
    "\n",
    "# Start timer\n",
    "t0 = time.time()\n",
    "\n",
    "def gale_shapley_world_cup_example(GroupA_prefs, GroupB_prefs):\n",
    "    n = len(GroupA_prefs)\n",
    "    A_matches = [-1] * n\n",
    "    B_matched = [False] * n\n",
    "\n",
    "    while A_matches.count(-1) > 0:\n",
    "        for GroupA in range(n):\n",
    "            if A_matches[GroupA] == -1:\n",
    "                for GroupB in GroupA_prefs[GroupA]:\n",
    "                    if not B_matched[GroupB]:\n",
    "                        A_matches[GroupA] = GroupB\n",
    "                        B_matched[GroupB] = True\n",
    "                        break\n",
    "                    else:\n",
    "                        current_partner = A_matches.index(GroupB)\n",
    "                        if GroupB_prefs[GroupB].index(GroupA) < GroupB_prefs[GroupB].index(current_partner):\n",
    "                            A_matches[GroupA] = GroupB\n",
    "                            B_matched[GroupB] = False\n",
    "                            A_matches[current_partner] = -1\n",
    "\n",
    "    stable_matches = [(GroupA, GroupB) for GroupA, GroupB in enumerate(A_matches)]\n",
    "    return stable_matches\n",
    "\n",
    "# Initialize preferences\n",
    "GroupA_prefs = []\n",
    "GroupB_prefs = []\n",
    "\n",
    "# Create preferences for teams in Group A\n",
    "for i in range(16):\n",
    "    pref1 = list(range(16))\n",
    "    random.shuffle(pref1)\n",
    "    GroupA_prefs.append(pref1)\n",
    "\n",
    "# Create preferences for teams in Group B\n",
    "for i in range(16):\n",
    "    pref2 = list(range(16))\n",
    "    random.shuffle(pref2)\n",
    "    GroupB_prefs.append(pref2)\n",
    "\n",
    "# Call the Gale Shapley code using the randomized preferences\n",
    "stable_matches = gale_shapley_world_cup_example(GroupA_prefs, GroupB_prefs)\n",
    "\n",
    "for GroupA, GroupB in stable_matches:\n",
    "    print(f\"Team {GroupA} from Group A is matched with Team {GroupB} from Group B\")\n",
    "\n",
    "t1 = time.time()\n",
    "total = t1-t0\n",
    "\n",
    "# Print the total time that it took to run the algorithm\n",
    "print(f\" Total time to run code is {total} seconds\")"
   ]
  }
 ],
 "metadata": {
  "language_info": {
   "name": "python"
  },
  "orig_nbformat": 4
 },
 "nbformat": 4,
 "nbformat_minor": 2
}
